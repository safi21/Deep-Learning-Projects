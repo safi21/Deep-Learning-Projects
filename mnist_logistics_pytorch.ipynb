{
  "nbformat": 4,
  "nbformat_minor": 0,
  "metadata": {
    "colab": {
      "provenance": []
    },
    "kernelspec": {
      "name": "python3",
      "display_name": "Python 3"
    },
    "language_info": {
      "name": "python"
    }
  },
  "cells": [
    {
      "cell_type": "code",
      "execution_count": 1,
      "metadata": {
        "id": "iR2-Oj4Qb1Gg"
      },
      "outputs": [],
      "source": [
        "import torch\n",
        "import torch.nn as nn\n",
        "from torchvision import datasets\n",
        "from torch.utils.data import DataLoader\n",
        "from torchvision.transforms import ToTensor\n",
        "from torch.utils.data import random_split\n",
        "from torch.nn import functional\n",
        "import matplotlib.pyplot as plt\n",
        "%matplotlib inline"
      ]
    },
    {
      "cell_type": "code",
      "source": [
        "training_data = datasets.MNIST(\n",
        "    root = 'data',\n",
        "    train = True,\n",
        "    download = True,\n",
        "    transform= ToTensor()\n",
        ")\n",
        "\n",
        "test_data = datasets.MNIST(\n",
        "    root = 'data',\n",
        "    train = False,\n",
        "    download = True,\n",
        "    transform = ToTensor()\n",
        ")"
      ],
      "metadata": {
        "id": "e0utqwDocE6Y"
      },
      "execution_count": 2,
      "outputs": []
    },
    {
      "cell_type": "code",
      "source": [
        "len(training_data)"
      ],
      "metadata": {
        "colab": {
          "base_uri": "https://localhost:8080/"
        },
        "id": "pGHbxNnddoT5",
        "outputId": "5dd2b42e-29ce-4e39-8ddc-ebb72d24c8f5"
      },
      "execution_count": 3,
      "outputs": [
        {
          "output_type": "execute_result",
          "data": {
            "text/plain": [
              "60000"
            ]
          },
          "metadata": {},
          "execution_count": 3
        }
      ]
    },
    {
      "cell_type": "code",
      "source": [
        "img, label = training_data[0]\n",
        "plt.imshow(img[0], cmap = 'gray')\n",
        "print(f\"Label : {label}\")"
      ],
      "metadata": {
        "colab": {
          "base_uri": "https://localhost:8080/",
          "height": 447
        },
        "id": "Upjzcrh7B5EC",
        "outputId": "0d7e2f83-5bb6-4382-9214-bdfb075f5e06"
      },
      "execution_count": 51,
      "outputs": [
        {
          "output_type": "stream",
          "name": "stdout",
          "text": [
            "Label : 5\n"
          ]
        },
        {
          "output_type": "display_data",
          "data": {
            "text/plain": [
              "<Figure size 640x480 with 1 Axes>"
            ],
            "image/png": "[encoded data removed]"
          },
          "metadata": {}
        }
      ]
    },
    {
      "cell_type": "code",
      "source": [
        "img, label = training_data[1000]\n",
        "plt.imshow(img[0], cmap = 'gray')\n",
        "print(f\"Label : {label}\")"
      ],
      "metadata": {
        "colab": {
          "base_uri": "https://localhost:8080/",
          "height": 447
        },
        "id": "FYF7V5X1CN95",
        "outputId": "3c00d434-3a56-4234-8994-0235fdb088c8"
      },
      "execution_count": 52,
      "outputs": [
        {
          "output_type": "stream",
          "name": "stdout",
          "text": [
            "Label : 0\n"
          ]
        },
        {
          "output_type": "display_data",
          "data": {
            "text/plain": [
              "<Figure size 640x480 with 1 Axes>"
            ],
            "image/png": "[encoded data removed]"
          },
          "metadata": {}
        }
      ]
    },
    {
      "cell_type": "code",
      "source": [
        "img, label = training_data[4532]\n",
        "plt.imshow(img[0], cmap = 'gray')\n",
        "print(f\"Label : {label}\")"
      ],
      "metadata": {
        "colab": {
          "base_uri": "https://localhost:8080/",
          "height": 447
        },
        "id": "SnBQTk2eCUSD",
        "outputId": "ab4dacee-99f8-4f7d-dfbb-b9adee57ec55"
      },
      "execution_count": 53,
      "outputs": [
        {
          "output_type": "stream",
          "name": "stdout",
          "text": [
            "Label : 0\n"
          ]
        },
        {
          "output_type": "display_data",
          "data": {
            "text/plain": [
              "<Figure size 640x480 with 1 Axes>"
            ],
            "image/png": "[encoded data removed]"
          },
          "metadata": {}
        }
      ]
    },
    {
      "cell_type": "code",
      "source": [
        "train_ds, val_ds = random_split(training_data, [50000, 10000])"
      ],
      "metadata": {
        "id": "JjPAhyf8dqlz"
      },
      "execution_count": 4,
      "outputs": []
    },
    {
      "cell_type": "code",
      "source": [
        "train_dataloader = DataLoader(train_ds, batch_size = 64, shuffle = True)\n",
        "val_dataloader = DataLoader(val_ds, batch_size = 64, shuffle = True)\n",
        "test_dataloader = DataLoader(test_data, batch_size = 64, shuffle = True)"
      ],
      "metadata": {
        "id": "XIZFvjQrd2bQ"
      },
      "execution_count": 5,
      "outputs": []
    },
    {
      "cell_type": "code",
      "source": [
        "model = nn.Linear(784, 10)"
      ],
      "metadata": {
        "id": "5-CuhwPmeY48"
      },
      "execution_count": 6,
      "outputs": []
    },
    {
      "cell_type": "code",
      "source": [
        "class SimpleModel(nn.Module):\n",
        "    def __init__(self):\n",
        "        super().__init__()\n",
        "        self.flatten = nn.Flatten()\n",
        "        self.linear = nn.Linear(784, 10)\n",
        "\n",
        "    def forward(self, feature_batch):\n",
        "        feature_batch = self.flatten(feature_batch)\n",
        "        pred = self.linear(feature_batch)\n",
        "        return pred\n",
        "\n",
        "model = SimpleModel()"
      ],
      "metadata": {
        "id": "0gwXQ0mCe2ZV"
      },
      "execution_count": 7,
      "outputs": []
    },
    {
      "cell_type": "code",
      "source": [
        "for batch in train_dataloader:\n",
        "    feature, target = batch\n",
        "    pred = model(feature)\n",
        "    print(pred.shape)\n",
        "    break"
      ],
      "metadata": {
        "colab": {
          "base_uri": "https://localhost:8080/"
        },
        "id": "vxXrzsFXf3pp",
        "outputId": "8b50bfc4-b2a4-4d7a-e8d1-5c0b8e34f57f"
      },
      "execution_count": 8,
      "outputs": [
        {
          "output_type": "stream",
          "name": "stdout",
          "text": [
            "torch.Size([64, 10])\n"
          ]
        }
      ]
    },
    {
      "cell_type": "code",
      "source": [
        "print(pred[20])"
      ],
      "metadata": {
        "colab": {
          "base_uri": "https://localhost:8080/"
        },
        "id": "ohmiPHQrgAVd",
        "outputId": "ab67dd4f-6962-4d6b-ec70-c37253a0f2f7"
      },
      "execution_count": 9,
      "outputs": [
        {
          "output_type": "stream",
          "name": "stdout",
          "text": [
            "tensor([ 0.0128, -0.0931,  0.1178, -0.2290,  0.2965, -0.0535, -0.1868,  0.3456,\n",
            "         0.1336, -0.0669], grad_fn=<SelectBackward0>)\n"
          ]
        }
      ]
    },
    {
      "cell_type": "code",
      "source": [
        "probs = functional.softmax(pred, dim = 1)"
      ],
      "metadata": {
        "id": "cT2wQibiguCY"
      },
      "execution_count": 10,
      "outputs": []
    },
    {
      "cell_type": "code",
      "source": [
        "print(probs[10])"
      ],
      "metadata": {
        "colab": {
          "base_uri": "https://localhost:8080/"
        },
        "id": "fOSJDh9ghCUk",
        "outputId": "e21571fe-8194-4fb6-b13f-d4a5a4f2cb67"
      },
      "execution_count": 11,
      "outputs": [
        {
          "output_type": "stream",
          "name": "stdout",
          "text": [
            "tensor([0.0965, 0.0757, 0.1001, 0.0960, 0.1112, 0.0864, 0.0721, 0.1435, 0.1360,\n",
            "        0.0824], grad_fn=<SelectBackward0>)\n"
          ]
        }
      ]
    },
    {
      "cell_type": "code",
      "source": [
        "print(f\"Sum = {torch.sum(probs[10]).item()}\")"
      ],
      "metadata": {
        "colab": {
          "base_uri": "https://localhost:8080/"
        },
        "id": "YP4oC64ohET0",
        "outputId": "b51924dc-37d2-48ff-da7b-8741a28a2bfe"
      },
      "execution_count": 12,
      "outputs": [
        {
          "output_type": "stream",
          "name": "stdout",
          "text": [
            "Sum = 1.0\n"
          ]
        }
      ]
    },
    {
      "cell_type": "code",
      "source": [
        "max_prob, predicted_digit = torch.max(probs, dim = 1)\n",
        "print(f\"Maximum probabilities are : \\n{max_prob}\")\n",
        "print(f\"Predicted digits are : \\n{predicted_digit}\")"
      ],
      "metadata": {
        "colab": {
          "base_uri": "https://localhost:8080/"
        },
        "id": "J1CIEfolhXXn",
        "outputId": "35cb64a8-e045-4760-b0d5-b01c6e166bb5"
      },
      "execution_count": 13,
      "outputs": [
        {
          "output_type": "stream",
          "name": "stdout",
          "text": [
            "Maximum probabilities are : \n",
            "tensor([0.1227, 0.1653, 0.1108, 0.1271, 0.1184, 0.1177, 0.1215, 0.1215, 0.1583,\n",
            "        0.1500, 0.1435, 0.1302, 0.1184, 0.1418, 0.1351, 0.1493, 0.1266, 0.1201,\n",
            "        0.1177, 0.1531, 0.1351, 0.1429, 0.1258, 0.1236, 0.1169, 0.1436, 0.1339,\n",
            "        0.1291, 0.1207, 0.1236, 0.1337, 0.1374, 0.1214, 0.1209, 0.1241, 0.1163,\n",
            "        0.1230, 0.1358, 0.1324, 0.1397, 0.1628, 0.1518, 0.1312, 0.1194, 0.1217,\n",
            "        0.1256, 0.1295, 0.1219, 0.1315, 0.1264, 0.1214, 0.1509, 0.1445, 0.1161,\n",
            "        0.1361, 0.1300, 0.1260, 0.1276, 0.1523, 0.1494, 0.1587, 0.1482, 0.1129,\n",
            "        0.1314], grad_fn=<MaxBackward0>)\n",
            "Predicted digits are : \n",
            "tensor([2, 8, 5, 2, 3, 0, 8, 8, 4, 4, 7, 7, 2, 7, 4, 8, 1, 4, 0, 8, 7, 3, 2, 4,\n",
            "        0, 9, 8, 8, 4, 9, 4, 8, 8, 4, 0, 8, 4, 7, 8, 5, 4, 4, 4, 4, 7, 4, 4, 5,\n",
            "        4, 7, 2, 7, 4, 2, 8, 9, 4, 4, 0, 8, 8, 4, 7, 4])\n"
          ]
        }
      ]
    },
    {
      "cell_type": "code",
      "source": [
        "target"
      ],
      "metadata": {
        "colab": {
          "base_uri": "https://localhost:8080/"
        },
        "id": "1ZTlOshhiEvl",
        "outputId": "7fbdca13-ddde-496e-897e-c1cdc1417801"
      },
      "execution_count": 14,
      "outputs": [
        {
          "output_type": "execute_result",
          "data": {
            "text/plain": [
              "tensor([7, 0, 5, 7, 8, 7, 2, 1, 8, 8, 6, 2, 1, 6, 2, 5, 4, 1, 9, 5, 1, 3, 2, 9,\n",
              "        7, 2, 5, 0, 1, 5, 4, 0, 2, 1, 7, 8, 3, 8, 1, 8, 2, 9, 7, 8, 4, 1, 6, 4,\n",
              "        4, 6, 8, 6, 4, 1, 6, 2, 0, 4, 0, 6, 8, 1, 1, 9])"
            ]
          },
          "metadata": {},
          "execution_count": 14
        }
      ]
    },
    {
      "cell_type": "code",
      "source": [
        "predicted_digit"
      ],
      "metadata": {
        "colab": {
          "base_uri": "https://localhost:8080/"
        },
        "id": "vmq3j-mxi7bL",
        "outputId": "edf2f765-474e-4f6a-f399-50afc11d881c"
      },
      "execution_count": 15,
      "outputs": [
        {
          "output_type": "execute_result",
          "data": {
            "text/plain": [
              "tensor([2, 8, 5, 2, 3, 0, 8, 8, 4, 4, 7, 7, 2, 7, 4, 8, 1, 4, 0, 8, 7, 3, 2, 4,\n",
              "        0, 9, 8, 8, 4, 9, 4, 8, 8, 4, 0, 8, 4, 7, 8, 5, 4, 4, 4, 4, 7, 4, 4, 5,\n",
              "        4, 7, 2, 7, 4, 2, 8, 9, 4, 4, 0, 8, 8, 4, 7, 4])"
            ]
          },
          "metadata": {},
          "execution_count": 15
        }
      ]
    },
    {
      "cell_type": "code",
      "source": [
        "target"
      ],
      "metadata": {
        "colab": {
          "base_uri": "https://localhost:8080/"
        },
        "id": "FYjlNHpXjohz",
        "outputId": "eac98650-b0f3-4845-b6c2-40beac6af3f0"
      },
      "execution_count": 16,
      "outputs": [
        {
          "output_type": "execute_result",
          "data": {
            "text/plain": [
              "tensor([7, 0, 5, 7, 8, 7, 2, 1, 8, 8, 6, 2, 1, 6, 2, 5, 4, 1, 9, 5, 1, 3, 2, 9,\n",
              "        7, 2, 5, 0, 1, 5, 4, 0, 2, 1, 7, 8, 3, 8, 1, 8, 2, 9, 7, 8, 4, 1, 6, 4,\n",
              "        4, 6, 8, 6, 4, 1, 6, 2, 0, 4, 0, 6, 8, 1, 1, 9])"
            ]
          },
          "metadata": {},
          "execution_count": 16
        }
      ]
    },
    {
      "cell_type": "code",
      "source": [
        "target == predicted_digit"
      ],
      "metadata": {
        "colab": {
          "base_uri": "https://localhost:8080/"
        },
        "id": "KdQcXY1Lj7wj",
        "outputId": "4a865810-c13c-4af8-8e7f-4d5812d8e710"
      },
      "execution_count": 17,
      "outputs": [
        {
          "output_type": "execute_result",
          "data": {
            "text/plain": [
              "tensor([False, False,  True, False, False, False, False, False, False, False,\n",
              "        False, False, False, False, False, False, False, False, False, False,\n",
              "        False,  True,  True, False, False, False, False, False, False, False,\n",
              "         True, False, False, False, False,  True, False, False, False, False,\n",
              "        False, False, False, False, False, False, False, False,  True, False,\n",
              "        False, False,  True, False, False, False, False,  True,  True, False,\n",
              "         True, False, False, False])"
            ]
          },
          "metadata": {},
          "execution_count": 17
        }
      ]
    },
    {
      "cell_type": "code",
      "source": [
        "torch.sum(target == predicted_digit).item()/ len(target)"
      ],
      "metadata": {
        "colab": {
          "base_uri": "https://localhost:8080/"
        },
        "id": "0THqy0c8j-Uw",
        "outputId": "5b3d8cf5-75ff-40bd-b5ee-2d7d81535232"
      },
      "execution_count": 18,
      "outputs": [
        {
          "output_type": "execute_result",
          "data": {
            "text/plain": [
              "0.15625"
            ]
          },
          "metadata": {},
          "execution_count": 18
        }
      ]
    },
    {
      "cell_type": "code",
      "source": [
        "def accuracy(output, label):\n",
        "    max_prob, pred_digit = torch.max(output, dim = 1)\n",
        "    return torch.sum(pred_digit == label).item() / len(label)"
      ],
      "metadata": {
        "id": "FWokfxpUkEov"
      },
      "execution_count": 19,
      "outputs": []
    },
    {
      "cell_type": "code",
      "source": [
        "acc = accuracy(pred, target)\n",
        "acc"
      ],
      "metadata": {
        "colab": {
          "base_uri": "https://localhost:8080/"
        },
        "id": "oMO3OoL9kQ_R",
        "outputId": "65470e19-e6f1-4aa1-ea93-150c2e710c71"
      },
      "execution_count": 20,
      "outputs": [
        {
          "output_type": "execute_result",
          "data": {
            "text/plain": [
              "0.15625"
            ]
          },
          "metadata": {},
          "execution_count": 20
        }
      ]
    },
    {
      "cell_type": "code",
      "source": [
        "loss_fn = functional.cross_entropy"
      ],
      "metadata": {
        "id": "rwPlrFYOk5c-"
      },
      "execution_count": 21,
      "outputs": []
    },
    {
      "cell_type": "code",
      "source": [
        "loss = loss_fn(pred, target)"
      ],
      "metadata": {
        "id": "86PkJTYSoB6W"
      },
      "execution_count": 22,
      "outputs": []
    },
    {
      "cell_type": "code",
      "source": [
        "print(loss)"
      ],
      "metadata": {
        "colab": {
          "base_uri": "https://localhost:8080/"
        },
        "id": "XxD50hLnoG0T",
        "outputId": "e053944a-0b73-423b-acb7-41e1990eaa29"
      },
      "execution_count": 23,
      "outputs": [
        {
          "output_type": "stream",
          "name": "stdout",
          "text": [
            "tensor(2.3126, grad_fn=<NllLossBackward0>)\n"
          ]
        }
      ]
    },
    {
      "cell_type": "code",
      "source": [
        "class MnistModel(nn.Module):\n",
        "    def __init__(self):\n",
        "        super().__init__()\n",
        "        self.flatten = nn.Flatten()\n",
        "        self.linear = nn.Linear(784, 10)\n",
        "    def forward(self, train_batch):\n",
        "        train_batch = self.flatten(train_batch)\n",
        "        predicted_label = self.linear(train_batch)\n",
        "        return predicted_label\n",
        "    def training_step(self, batch):\n",
        "        feature, label = batch\n",
        "        predicted_label = self(feature)\n",
        "        loss = functional.cross_entropy(predicted_label, label)\n",
        "        return loss\n",
        "    def validation_step(self, batch):\n",
        "        feature, label = batch\n",
        "        predicted_label = self(feature)\n",
        "        loss = functional.cross_entropy(predicted_label, label)\n",
        "        val_accuracy = accuracy(predicted_label, label)\n",
        "        return {\n",
        "            'val_loss' : loss,\n",
        "            'val_accuracy' : torch.tensor(val_accuracy)\n",
        "        }\n",
        "\n",
        "    def validation_epoch_end(self, val_output):\n",
        "        batch_losses = [x['val_loss'] for x in val_output]\n",
        "        epoch_loss = torch.stack(batch_losses).mean()\n",
        "        batch_acc = [x['val_accuracy'] for x in val_output]\n",
        "        epoch_acc = torch.stack(batch_acc).mean()\n",
        "        return {\n",
        "            'val_loss' : epoch_loss.item(),\n",
        "            'val_acc' : epoch_acc.item()\n",
        "        }\n",
        "\n",
        "    def epoch_end(self, epoch, result):\n",
        "        print(f\"Epoch [{epoch}], val_loss: {result['val_loss']:0.4f}, val_acc: {result['val_acc']:0.4f}\")\n",
        "\n",
        "model = MnistModel()"
      ],
      "metadata": {
        "id": "n8uY65Jbr7Gq"
      },
      "execution_count": 24,
      "outputs": []
    },
    {
      "cell_type": "code",
      "source": [
        "def evaluate(model, val_dataloader):\n",
        "    outputs = [model.validation_step(batch) for batch in val_dataloader]\n",
        "    return model.validation_epoch_end(outputs)"
      ],
      "metadata": {
        "id": "ZEQxUDD1sLZa"
      },
      "execution_count": 25,
      "outputs": []
    },
    {
      "cell_type": "code",
      "source": [
        "outputs = []\n",
        "for batch in val_dataloader:\n",
        "    feature, label = batch\n",
        "    predicted_label = model(feature)\n",
        "    loss = functional.cross_entropy(predicted_label, label)\n",
        "    val_accuracy = torch.tensor(accuracy(predicted_label, label))\n",
        "    dict = {\n",
        "        'val_loss' : loss,\n",
        "        'val_accuracy' : val_accuracy\n",
        "    }\n",
        "    outputs.append(dict)\n",
        "batch_losses = [x['val_loss'] for x in outputs]\n",
        "epoch_loss = torch.stack(batch_losses).mean()\n",
        "batch_acc = [x['val_accuracy'] for x in outputs]\n",
        "epoch_acc = torch.stack(batch_acc).mean()\n",
        "print(f\"Val_loss = {epoch_loss.item()}\")\n",
        "print(f\"val_accuracy = {epoch_acc.item()}\")"
      ],
      "metadata": {
        "colab": {
          "base_uri": "https://localhost:8080/"
        },
        "id": "xuldGlMH3QDC",
        "outputId": "abdba69d-739e-4de9-9c1a-ec071e3d0b74"
      },
      "execution_count": 26,
      "outputs": [
        {
          "output_type": "stream",
          "name": "stdout",
          "text": [
            "Val_loss = 2.2835850715637207\n",
            "val_accuracy = 0.16222134232521057\n"
          ]
        }
      ]
    },
    {
      "cell_type": "code",
      "source": [],
      "metadata": {
        "id": "ZHtGBZhK4PKm"
      },
      "execution_count": 26,
      "outputs": []
    },
    {
      "cell_type": "markdown",
      "source": [
        "# Training the model"
      ],
      "metadata": {
        "id": "ywZN-YXioImH"
      }
    },
    {
      "cell_type": "code",
      "source": [
        "def fit(epochs, lr, train_dataloader, val_dataloader, model, opt_fn = torch.optim.SGD,):\n",
        "    opt = opt_fn(model.parameters(), lr)\n",
        "    history = []\n",
        "    for epoch in range(epochs):\n",
        "        # training\n",
        "        for batch in train_dataloader:\n",
        "            loss = model.training_step(batch)\n",
        "            loss.backward()\n",
        "            opt.step()\n",
        "            opt.zero_grad()\n",
        "        # validation\n",
        "        result = evaluate(model, val_dataloader)\n",
        "        model.epoch_end(epoch, result)\n",
        "        history.append(result)\n",
        "    return history"
      ],
      "metadata": {
        "id": "DDhHcUyCojmH"
      },
      "execution_count": 27,
      "outputs": []
    },
    {
      "cell_type": "code",
      "source": [
        "result0 = evaluate(model, val_dataloader)\n",
        "print(result0)"
      ],
      "metadata": {
        "colab": {
          "base_uri": "https://localhost:8080/"
        },
        "id": "QX98tphvpu_0",
        "outputId": "615d9efc-6e8d-487a-e744-750625934e23"
      },
      "execution_count": 28,
      "outputs": [
        {
          "output_type": "stream",
          "name": "stdout",
          "text": [
            "{'val_loss': 2.283562183380127, 'val_acc': 0.16281847655773163}\n"
          ]
        }
      ]
    },
    {
      "cell_type": "code",
      "source": [
        "history = fit(50, 0.001, train_dataloader, val_dataloader, model)"
      ],
      "metadata": {
        "colab": {
          "base_uri": "https://localhost:8080/"
        },
        "id": "f_VlYioY0VIz",
        "outputId": "acd5bee5-d787-4604-b8d3-f6d731a19b90"
      },
      "execution_count": 29,
      "outputs": [
        {
          "output_type": "stream",
          "name": "stdout",
          "text": [
            "Epoch [0], val_loss: 1.6609, val_acc: 0.7198\n",
            "Epoch [1], val_loss: 1.3183, val_acc: 0.7734\n",
            "Epoch [2], val_loss: 1.1147, val_acc: 0.7977\n",
            "Epoch [3], val_loss: 0.9849, val_acc: 0.8117\n",
            "Epoch [4], val_loss: 0.8946, val_acc: 0.8215\n",
            "Epoch [5], val_loss: 0.8270, val_acc: 0.8300\n",
            "Epoch [6], val_loss: 0.7761, val_acc: 0.8361\n",
            "Epoch [7], val_loss: 0.7355, val_acc: 0.8422\n",
            "Epoch [8], val_loss: 0.7015, val_acc: 0.8454\n",
            "Epoch [9], val_loss: 0.6746, val_acc: 0.8496\n",
            "Epoch [10], val_loss: 0.6514, val_acc: 0.8522\n",
            "Epoch [11], val_loss: 0.6315, val_acc: 0.8543\n",
            "Epoch [12], val_loss: 0.6131, val_acc: 0.8562\n",
            "Epoch [13], val_loss: 0.5974, val_acc: 0.8587\n",
            "Epoch [14], val_loss: 0.5842, val_acc: 0.8608\n",
            "Epoch [15], val_loss: 0.5712, val_acc: 0.8635\n",
            "Epoch [16], val_loss: 0.5624, val_acc: 0.8648\n",
            "Epoch [17], val_loss: 0.5510, val_acc: 0.8664\n",
            "Epoch [18], val_loss: 0.5414, val_acc: 0.8684\n",
            "Epoch [19], val_loss: 0.5334, val_acc: 0.8702\n",
            "Epoch [20], val_loss: 0.5247, val_acc: 0.8707\n",
            "Epoch [21], val_loss: 0.5181, val_acc: 0.8718\n",
            "Epoch [22], val_loss: 0.5121, val_acc: 0.8712\n",
            "Epoch [23], val_loss: 0.5039, val_acc: 0.8731\n",
            "Epoch [24], val_loss: 0.4993, val_acc: 0.8733\n",
            "Epoch [25], val_loss: 0.4951, val_acc: 0.8742\n",
            "Epoch [26], val_loss: 0.4889, val_acc: 0.8751\n",
            "Epoch [27], val_loss: 0.4851, val_acc: 0.8750\n",
            "Epoch [28], val_loss: 0.4796, val_acc: 0.8755\n",
            "Epoch [29], val_loss: 0.4760, val_acc: 0.8766\n",
            "Epoch [30], val_loss: 0.4719, val_acc: 0.8761\n",
            "Epoch [31], val_loss: 0.4676, val_acc: 0.8776\n",
            "Epoch [32], val_loss: 0.4650, val_acc: 0.8778\n",
            "Epoch [33], val_loss: 0.4602, val_acc: 0.8794\n",
            "Epoch [34], val_loss: 0.4577, val_acc: 0.8795\n",
            "Epoch [35], val_loss: 0.4560, val_acc: 0.8786\n",
            "Epoch [36], val_loss: 0.4514, val_acc: 0.8805\n",
            "Epoch [37], val_loss: 0.4470, val_acc: 0.8818\n",
            "Epoch [38], val_loss: 0.4445, val_acc: 0.8822\n",
            "Epoch [39], val_loss: 0.4443, val_acc: 0.8814\n",
            "Epoch [40], val_loss: 0.4397, val_acc: 0.8826\n",
            "Epoch [41], val_loss: 0.4389, val_acc: 0.8826\n",
            "Epoch [42], val_loss: 0.4344, val_acc: 0.8836\n",
            "Epoch [43], val_loss: 0.4329, val_acc: 0.8835\n",
            "Epoch [44], val_loss: 0.4313, val_acc: 0.8832\n",
            "Epoch [45], val_loss: 0.4301, val_acc: 0.8845\n",
            "Epoch [46], val_loss: 0.4265, val_acc: 0.8848\n",
            "Epoch [47], val_loss: 0.4234, val_acc: 0.8856\n",
            "Epoch [48], val_loss: 0.4222, val_acc: 0.8859\n",
            "Epoch [49], val_loss: 0.4201, val_acc: 0.8862\n"
          ]
        }
      ]
    },
    {
      "cell_type": "code",
      "source": [
        "history = [result0] + history\n",
        "accuracies = [x['val_acc'] for x in history]\n",
        "plt.plot(accuracies, '-o')\n",
        "plt.xlabel('Epoch')\n",
        "plt.ylabel('Accuracy')\n",
        "plt.title('Accuracy vs No of Epochs')"
      ],
      "metadata": {
        "colab": {
          "base_uri": "https://localhost:8080/",
          "height": 489
        },
        "id": "0Sw5WnTu-mbj",
        "outputId": "92492db6-af8a-4163-c5bb-f2b7d6a030af"
      },
      "execution_count": 30,
      "outputs": [
        {
          "output_type": "execute_result",
          "data": {
            "text/plain": [
              "Text(0.5, 1.0, 'Accuracy vs No of Epochs')"
            ]
          },
          "metadata": {},
          "execution_count": 30
        },
        {
          "output_type": "display_data",
          "data": {
            "text/plain": [
              "<Figure size 640x480 with 1 Axes>"
            ],
            "image/png": "[encoded data removed]"
          },
          "metadata": {}
        }
      ]
    },
    {
      "cell_type": "code",
      "source": [
        "img, label = test_data[0]\n",
        "plt.imshow(img[0], cmap = 'gray')\n",
        "print(f\"Label = {label}\")\n",
        "print(f\"Image shape = {img.shape}\")"
      ],
      "metadata": {
        "colab": {
          "base_uri": "https://localhost:8080/",
          "height": 465
        },
        "id": "npI4PRHpoQ9q",
        "outputId": "cc152b68-667e-4123-919d-972633c71118"
      },
      "execution_count": 31,
      "outputs": [
        {
          "output_type": "stream",
          "name": "stdout",
          "text": [
            "Label = 7\n",
            "Image shape = torch.Size([1, 28, 28])\n"
          ]
        },
        {
          "output_type": "display_data",
          "data": {
            "text/plain": [
              "<Figure size 640x480 with 1 Axes>"
            ],
            "image/png": "[encoded data removed]"
          },
          "metadata": {}
        }
      ]
    },
    {
      "cell_type": "code",
      "source": [
        "def predict_image(img, model):\n",
        "    xb = img.unsqueeze(0)\n",
        "    yb = model(xb)\n",
        "    max_prob, pred = torch.max(yb, dim = 1)\n",
        "    return pred[0].item()"
      ],
      "metadata": {
        "id": "Yi98rRbFpf1K"
      },
      "execution_count": 32,
      "outputs": []
    },
    {
      "cell_type": "code",
      "source": [
        "xb = img.unsqueeze(0)\n",
        "yb = model(xb)\n",
        "_, pred = torch.max(yb, dim = 1)\n",
        "print(pred)"
      ],
      "metadata": {
        "colab": {
          "base_uri": "https://localhost:8080/"
        },
        "id": "CC9FEf3_qwDR",
        "outputId": "1b188c53-27d8-409d-ae48-049059c96d0f"
      },
      "execution_count": 33,
      "outputs": [
        {
          "output_type": "stream",
          "name": "stdout",
          "text": [
            "tensor([7])\n"
          ]
        }
      ]
    },
    {
      "cell_type": "code",
      "source": [
        "print(pred.item())"
      ],
      "metadata": {
        "colab": {
          "base_uri": "https://localhost:8080/"
        },
        "id": "Hu3AZYZXq9ND",
        "outputId": "9adc66c2-de61-45ae-cf82-a178f04bd764"
      },
      "execution_count": 34,
      "outputs": [
        {
          "output_type": "stream",
          "name": "stdout",
          "text": [
            "7\n"
          ]
        }
      ]
    },
    {
      "cell_type": "code",
      "source": [
        "print(pred[0])"
      ],
      "metadata": {
        "colab": {
          "base_uri": "https://localhost:8080/"
        },
        "id": "3DVDIZsYrBll",
        "outputId": "b26ad7a3-2995-4de0-8c9a-775eea6cd82f"
      },
      "execution_count": 35,
      "outputs": [
        {
          "output_type": "stream",
          "name": "stdout",
          "text": [
            "tensor(7)\n"
          ]
        }
      ]
    },
    {
      "cell_type": "code",
      "source": [
        "img, label = test_data[100]\n",
        "plt.imshow(img[0], cmap = 'gray')\n",
        "print(f\"Actual label : {label} \\nPredicted label: {predict_image(img, model)}\")"
      ],
      "metadata": {
        "colab": {
          "base_uri": "https://localhost:8080/",
          "height": 465
        },
        "id": "HpWG5psdrEN-",
        "outputId": "57f50376-785d-45ab-da9a-cd50ae06c080"
      },
      "execution_count": 36,
      "outputs": [
        {
          "output_type": "stream",
          "name": "stdout",
          "text": [
            "Actual label : 6 \n",
            "Predicted label: 6\n"
          ]
        },
        {
          "output_type": "display_data",
          "data": {
            "text/plain": [
              "<Figure size 640x480 with 1 Axes>"
            ],
            "image/png": "[encoded data removed]"
          },
          "metadata": {}
        }
      ]
    },
    {
      "cell_type": "code",
      "source": [
        "img, label = test_data[10]\n",
        "plt.imshow(img[0], cmap = 'gray')\n",
        "print(f\"Actual label : {label} \\nPredicted label: {predict_image(img, model)}\")"
      ],
      "metadata": {
        "colab": {
          "base_uri": "https://localhost:8080/",
          "height": 465
        },
        "id": "GV4dT72pr55V",
        "outputId": "03bc7407-4e71-4a9d-e7ea-f6108306da8c"
      },
      "execution_count": 37,
      "outputs": [
        {
          "output_type": "stream",
          "name": "stdout",
          "text": [
            "Actual label : 0 \n",
            "Predicted label: 0\n"
          ]
        },
        {
          "output_type": "display_data",
          "data": {
            "text/plain": [
              "<Figure size 640x480 with 1 Axes>"
            ],
            "image/png": "[encoded data removed]"
          },
          "metadata": {}
        }
      ]
    },
    {
      "cell_type": "code",
      "source": [
        "img, label = test_data[193]\n",
        "plt.imshow(img[0], cmap = 'gray')\n",
        "print(f\"Actual label : {label} \\nPredicted label: {predict_image(img, model)}\")"
      ],
      "metadata": {
        "colab": {
          "base_uri": "https://localhost:8080/",
          "height": 465
        },
        "id": "mhuF-jCXsJc3",
        "outputId": "d157c4b3-7ab6-4f71-8d93-2addef624583"
      },
      "execution_count": 38,
      "outputs": [
        {
          "output_type": "stream",
          "name": "stdout",
          "text": [
            "Actual label : 9 \n",
            "Predicted label: 4\n"
          ]
        },
        {
          "output_type": "display_data",
          "data": {
            "text/plain": [
              "<Figure size 640x480 with 1 Axes>"
            ],
            "image/png": "[encoded data removed]"
          },
          "metadata": {}
        }
      ]
    },
    {
      "cell_type": "code",
      "source": [
        "img, label = test_data[1839]\n",
        "plt.imshow(img[0], cmap = 'gray')\n",
        "print(f\"Actual label : {label} \\nPredicted label: {predict_image(img, model)}\")"
      ],
      "metadata": {
        "colab": {
          "base_uri": "https://localhost:8080/",
          "height": 465
        },
        "id": "yK-8-DTUsSLm",
        "outputId": "9d0e3414-6910-4d5b-f8bc-5677ef830c1b"
      },
      "execution_count": 39,
      "outputs": [
        {
          "output_type": "stream",
          "name": "stdout",
          "text": [
            "Actual label : 2 \n",
            "Predicted label: 8\n"
          ]
        },
        {
          "output_type": "display_data",
          "data": {
            "text/plain": [
              "<Figure size 640x480 with 1 Axes>"
            ],
            "image/png": "[encoded data removed]"
          },
          "metadata": {}
        }
      ]
    },
    {
      "cell_type": "code",
      "source": [
        "img, label = test_data[2555]\n",
        "plt.imshow(img[0], cmap = 'gray')\n",
        "print(f\"Actual label : {label} \\nPredicted label: {predict_image(img, model)}\")"
      ],
      "metadata": {
        "colab": {
          "base_uri": "https://localhost:8080/",
          "height": 465
        },
        "id": "6aiw8omascXk",
        "outputId": "908d6973-d42b-47b9-dc3a-7b5f6a0e5aab"
      },
      "execution_count": 40,
      "outputs": [
        {
          "output_type": "stream",
          "name": "stdout",
          "text": [
            "Actual label : 3 \n",
            "Predicted label: 3\n"
          ]
        },
        {
          "output_type": "display_data",
          "data": {
            "text/plain": [
              "<Figure size 640x480 with 1 Axes>"
            ],
            "image/png": "[encoded data removed]"
          },
          "metadata": {}
        }
      ]
    },
    {
      "cell_type": "code",
      "source": [
        "result = evaluate(model, test_dataloader)"
      ],
      "metadata": {
        "id": "JlIZZk4Msr5W"
      },
      "execution_count": 41,
      "outputs": []
    },
    {
      "cell_type": "code",
      "source": [
        "result"
      ],
      "metadata": {
        "colab": {
          "base_uri": "https://localhost:8080/"
        },
        "id": "iuN2jNlks50P",
        "outputId": "8625ed8d-3730-4a83-aaf1-cd38a8232352"
      },
      "execution_count": 42,
      "outputs": [
        {
          "output_type": "execute_result",
          "data": {
            "text/plain": [
              "{'val_loss': 0.3947143852710724, 'val_acc': 0.8970939517021179}"
            ]
          },
          "metadata": {},
          "execution_count": 42
        }
      ]
    },
    {
      "cell_type": "code",
      "source": [
        "test_loader = DataLoader(test_data, batch_size = 256)\n",
        "result32 = evaluate(model, test_loader)\n",
        "print(result32)"
      ],
      "metadata": {
        "colab": {
          "base_uri": "https://localhost:8080/"
        },
        "id": "zsu88-fns6d0",
        "outputId": "953b8e37-58d7-4cee-994d-e9c4098d273d"
      },
      "execution_count": 43,
      "outputs": [
        {
          "output_type": "stream",
          "name": "stdout",
          "text": [
            "{'val_loss': 0.3915962874889374, 'val_acc': 0.896679699420929}\n"
          ]
        }
      ]
    },
    {
      "cell_type": "code",
      "source": [
        "print(model.state_dict())"
      ],
      "metadata": {
        "colab": {
          "base_uri": "https://localhost:8080/"
        },
        "id": "lXYcfvgbtnZs",
        "outputId": "5a0d5572-30d6-43b6-c95b-539006bc552e"
      },
      "execution_count": 44,
      "outputs": [
        {
          "output_type": "stream",
          "name": "stdout",
          "text": [
            "OrderedDict([('linear.weight', tensor([[-1.0518e-02,  6.4782e-03, -3.6535e-03,  ...,  1.4508e-02,\n",
            "         -8.4260e-04, -2.9982e-02],\n",
            "        [ 1.7835e-02,  1.2726e-02, -2.9365e-02,  ...,  4.9708e-03,\n",
            "         -1.1646e-02,  9.6651e-03],\n",
            "        [ 6.5229e-03, -1.0418e-02, -2.7959e-02,  ...,  5.6101e-05,\n",
            "          3.7650e-03,  3.1824e-02],\n",
            "        ...,\n",
            "        [ 1.0070e-02,  1.1674e-02,  3.7126e-03,  ...,  2.4332e-02,\n",
            "          1.6196e-02,  2.6503e-03],\n",
            "        [-1.4129e-02, -1.1981e-02,  5.4324e-03,  ...,  2.2767e-02,\n",
            "         -4.8455e-03, -1.7897e-02],\n",
            "        [-2.9853e-02,  2.8433e-02, -2.4485e-02,  ..., -2.8241e-02,\n",
            "         -1.2673e-02,  1.5779e-02]])), ('linear.bias', tensor([-0.0705,  0.1487, -0.0095, -0.0938,  0.0276,  0.1916, -0.0158,  0.1105,\n",
            "        -0.2712, -0.0455]))])\n"
          ]
        }
      ]
    },
    {
      "cell_type": "code",
      "source": [
        "torch.save(model.state_dict(), 'mnist_logistic.pth')"
      ],
      "metadata": {
        "id": "cAX8vmOPt51s"
      },
      "execution_count": 45,
      "outputs": []
    },
    {
      "cell_type": "code",
      "source": [
        "model1 = MnistModel()\n",
        "model1.state_dict()"
      ],
      "metadata": {
        "colab": {
          "base_uri": "https://localhost:8080/"
        },
        "id": "yyaNG4iDuJeJ",
        "outputId": "a577683a-37fb-4a9e-b8e9-375e4e44dc52"
      },
      "execution_count": 46,
      "outputs": [
        {
          "output_type": "execute_result",
          "data": {
            "text/plain": [
              "OrderedDict([('linear.weight',\n",
              "              tensor([[ 0.0136, -0.0319, -0.0223,  ..., -0.0091, -0.0235,  0.0083],\n",
              "                      [ 0.0006,  0.0175,  0.0239,  ...,  0.0046, -0.0010,  0.0150],\n",
              "                      [-0.0171,  0.0208, -0.0194,  ..., -0.0161,  0.0160, -0.0271],\n",
              "                      ...,\n",
              "                      [ 0.0206, -0.0034, -0.0007,  ..., -0.0164,  0.0223, -0.0293],\n",
              "                      [-0.0078,  0.0071, -0.0308,  ..., -0.0254, -0.0071,  0.0143],\n",
              "                      [-0.0179,  0.0153, -0.0008,  ...,  0.0157, -0.0288,  0.0225]])),\n",
              "             ('linear.bias',\n",
              "              tensor([ 0.0029, -0.0033,  0.0151,  0.0006, -0.0190, -0.0013,  0.0271, -0.0142,\n",
              "                      -0.0038, -0.0329]))])"
            ]
          },
          "metadata": {},
          "execution_count": 46
        }
      ]
    },
    {
      "cell_type": "code",
      "source": [
        "evaluate(model1, test_dataloader)"
      ],
      "metadata": {
        "colab": {
          "base_uri": "https://localhost:8080/"
        },
        "id": "JNb_EPbOuYKX",
        "outputId": "b3c585b9-d4f7-49fb-a34b-817666d97b66"
      },
      "execution_count": 47,
      "outputs": [
        {
          "output_type": "execute_result",
          "data": {
            "text/plain": [
              "{'val_loss': 2.3446736335754395, 'val_acc': 0.04538216441869736}"
            ]
          },
          "metadata": {},
          "execution_count": 47
        }
      ]
    },
    {
      "cell_type": "code",
      "source": [
        "model1.load_state_dict(torch.load('mnist_logistic.pth'))\n",
        "print(model1.state_dict())\n",
        "print(evaluate(model1, test_dataloader))"
      ],
      "metadata": {
        "colab": {
          "base_uri": "https://localhost:8080/"
        },
        "id": "l9v1VBrZugJH",
        "outputId": "b36750b6-480f-4e2b-9eca-fee010d21250"
      },
      "execution_count": 48,
      "outputs": [
        {
          "output_type": "stream",
          "name": "stdout",
          "text": [
            "OrderedDict([('linear.weight', tensor([[-1.0518e-02,  6.4782e-03, -3.6535e-03,  ...,  1.4508e-02,\n",
            "         -8.4260e-04, -2.9982e-02],\n",
            "        [ 1.7835e-02,  1.2726e-02, -2.9365e-02,  ...,  4.9708e-03,\n",
            "         -1.1646e-02,  9.6651e-03],\n",
            "        [ 6.5229e-03, -1.0418e-02, -2.7959e-02,  ...,  5.6101e-05,\n",
            "          3.7650e-03,  3.1824e-02],\n",
            "        ...,\n",
            "        [ 1.0070e-02,  1.1674e-02,  3.7126e-03,  ...,  2.4332e-02,\n",
            "          1.6196e-02,  2.6503e-03],\n",
            "        [-1.4129e-02, -1.1981e-02,  5.4324e-03,  ...,  2.2767e-02,\n",
            "         -4.8455e-03, -1.7897e-02],\n",
            "        [-2.9853e-02,  2.8433e-02, -2.4485e-02,  ..., -2.8241e-02,\n",
            "         -1.2673e-02,  1.5779e-02]])), ('linear.bias', tensor([-0.0705,  0.1487, -0.0095, -0.0938,  0.0276,  0.1916, -0.0158,  0.1105,\n",
            "        -0.2712, -0.0455]))])\n",
            "{'val_loss': 0.39485082030296326, 'val_acc': 0.8970939517021179}\n"
          ]
        }
      ]
    },
    {
      "cell_type": "code",
      "source": [
        "model.state_dict()"
      ],
      "metadata": {
        "colab": {
          "base_uri": "https://localhost:8080/"
        },
        "id": "psA5KQcJvCni",
        "outputId": "e938df69-4d11-4d52-9558-2b9f147934ff"
      },
      "execution_count": 49,
      "outputs": [
        {
          "output_type": "execute_result",
          "data": {
            "text/plain": [
              "OrderedDict([('linear.weight',\n",
              "              tensor([[-1.0518e-02,  6.4782e-03, -3.6535e-03,  ...,  1.4508e-02,\n",
              "                       -8.4260e-04, -2.9982e-02],\n",
              "                      [ 1.7835e-02,  1.2726e-02, -2.9365e-02,  ...,  4.9708e-03,\n",
              "                       -1.1646e-02,  9.6651e-03],\n",
              "                      [ 6.5229e-03, -1.0418e-02, -2.7959e-02,  ...,  5.6101e-05,\n",
              "                        3.7650e-03,  3.1824e-02],\n",
              "                      ...,\n",
              "                      [ 1.0070e-02,  1.1674e-02,  3.7126e-03,  ...,  2.4332e-02,\n",
              "                        1.6196e-02,  2.6503e-03],\n",
              "                      [-1.4129e-02, -1.1981e-02,  5.4324e-03,  ...,  2.2767e-02,\n",
              "                       -4.8455e-03, -1.7897e-02],\n",
              "                      [-2.9853e-02,  2.8433e-02, -2.4485e-02,  ..., -2.8241e-02,\n",
              "                       -1.2673e-02,  1.5779e-02]])),\n",
              "             ('linear.bias',\n",
              "              tensor([-0.0705,  0.1487, -0.0095, -0.0938,  0.0276,  0.1916, -0.0158,  0.1105,\n",
              "                      -0.2712, -0.0455]))])"
            ]
          },
          "metadata": {},
          "execution_count": 49
        }
      ]
    },
    {
      "cell_type": "code",
      "source": [
        "list(model.parameters())"
      ],
      "metadata": {
        "colab": {
          "base_uri": "https://localhost:8080/"
        },
        "id": "ycIC-CKFyGZP",
        "outputId": "88a6c7e9-5adb-4c4f-aab9-050893f35578"
      },
      "execution_count": 50,
      "outputs": [
        {
          "output_type": "execute_result",
          "data": {
            "text/plain": [
              "[Parameter containing:\n",
              " tensor([[-1.0518e-02,  6.4782e-03, -3.6535e-03,  ...,  1.4508e-02,\n",
              "          -8.4260e-04, -2.9982e-02],\n",
              "         [ 1.7835e-02,  1.2726e-02, -2.9365e-02,  ...,  4.9708e-03,\n",
              "          -1.1646e-02,  9.6651e-03],\n",
              "         [ 6.5229e-03, -1.0418e-02, -2.7959e-02,  ...,  5.6101e-05,\n",
              "           3.7650e-03,  3.1824e-02],\n",
              "         ...,\n",
              "         [ 1.0070e-02,  1.1674e-02,  3.7126e-03,  ...,  2.4332e-02,\n",
              "           1.6196e-02,  2.6503e-03],\n",
              "         [-1.4129e-02, -1.1981e-02,  5.4324e-03,  ...,  2.2767e-02,\n",
              "          -4.8455e-03, -1.7897e-02],\n",
              "         [-2.9853e-02,  2.8433e-02, -2.4485e-02,  ..., -2.8241e-02,\n",
              "          -1.2673e-02,  1.5779e-02]], requires_grad=True),\n",
              " Parameter containing:\n",
              " tensor([-0.0705,  0.1487, -0.0095, -0.0938,  0.0276,  0.1916, -0.0158,  0.1105,\n",
              "         -0.2712, -0.0455], requires_grad=True)]"
            ]
          },
          "metadata": {},
          "execution_count": 50
        }
      ]
    }
  ]
}